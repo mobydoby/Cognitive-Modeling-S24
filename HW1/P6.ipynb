{
 "cells": [
  {
   "cell_type": "markdown",
   "id": "374ddba5-a9f2-484d-a96a-96b13a050f89",
   "metadata": {},
   "source": [
    "Most start ups fail. \n",
    "But some markets, ideas, and teams are better than others. After Learning about start ups in class, I want to figure out some associated probabilities\n",
    "    \n",
    "Prior: 9/10 start ups fail, 1/10 start ups are successful\n",
    "\n",
    "From a naive perspective, in order to have a successful company, 3 things need to align. The right market, idea, and team.\n",
    "    \n",
    "likelihood: given a good start up, whats the probability they have... \n",
    "\n",
    "a good market, a good product, and a good team? 0.9\n",
    "\n",
    "a good market, a good product, and a bad team?  0.2\n",
    "\n",
    "a good market, a bad product, and a good team?  0.9\n",
    "\n",
    "a good market, a bad product, and a bad team?   0.8\n",
    "\n",
    "a bad market, a good product, and a good team?  0.1\n",
    "\n",
    "a bad market, a good product, and a bad team?   0.05\n",
    "\n",
    "a bad market, a bad product, and a good team?   0.05\n",
    "\n",
    "a bad market, a bad product, and a bad team?    0.001\n",
    "    \n"
   ]
  },
  {
   "cell_type": "code",
   "execution_count": 82,
   "id": "51c7c568-ba3c-4dd6-8498-03b123cf762f",
   "metadata": {},
   "outputs": [],
   "source": [
    "import numpy as np\n",
    "import seaborn as sns\n",
    "import matplotlib.pyplot as plt\n",
    "from sklearn.preprocessing import normalize as norm"
   ]
  },
  {
   "cell_type": "code",
   "execution_count": 83,
   "id": "facaeb23-abe4-4456-8ee7-a861387babda",
   "metadata": {},
   "outputs": [
    {
     "name": "stdout",
     "output_type": "stream",
     "text": [
      "0.9999999999999999\n",
      "[0.020004 0.160032 0.020004 0.040008 0.180036 0.190038 0.190038 0.19984 ]\n",
      "[0.2999   0.066644 0.2999   0.266578 0.033322 0.016661 0.016661 0.000333]\n"
     ]
    }
   ],
   "source": [
    "# Normalize probabilities\n",
    "prior = np.array([0.1, 0.9])\n",
    "initial_guess = np.array([0.9,  0.2, 0.9, 0.8, 0.1, 0.05, 0.05, 0.001])\n",
    "inverse = 1 - initial_guess\n",
    "inverse_normalized = inverse / (1-initial_guess).sum(0)\n",
    "normalized_likelihoods = initial_guess / initial_guess.sum(0)\n",
    "print(normalized_likelihoods.sum())\n",
    "print(inverse_normalized)\n",
    "print(normalized_likelihoods)"
   ]
  },
  {
   "cell_type": "code",
   "execution_count": 84,
   "id": "830ea79a-2626-4421-89a4-7e9433e2fe15",
   "metadata": {},
   "outputs": [],
   "source": [
    " np.set_printoptions(precision=6)"
   ]
  },
  {
   "cell_type": "code",
   "execution_count": 122,
   "id": "30087bc9-6f9b-4c69-9753-77cd209bf9da",
   "metadata": {},
   "outputs": [
    {
     "name": "stdout",
     "output_type": "stream",
     "text": [
      "Simulating 10000 Start up runs\n",
      "Prior: [0.1 0.9]\n",
      "Success Likelihoods:[0.2999   0.066644 0.2999   0.266578 0.033322 0.016661 0.016661 0.000333]\n",
      "Failure Likelihood:[0.020004 0.160032 0.020004 0.040008 0.180036 0.190038 0.190038 0.19984 ]\n"
     ]
    }
   ],
   "source": [
    "def simulate_investor(prior, prior_choices, likelihood, inverse_likelihood, env_choices, N=1000, )->np.array:\n",
    "    \"\"\"Simulates the probability of successful startups based\n",
    "    on priors and likelihoods.\n",
    "    Args: \n",
    "        N - the number of simulation run\n",
    "    Returns:\n",
    "        N by 2 array with the sucess status, and whether they had \n",
    "        a good or bad market, product, and team.\n",
    "    \"\"\"\n",
    "    print(f\"Simulating {N} Start up runs\")\n",
    "    # Sample from Prior\n",
    "    print(f\"Prior: {prior}\\nSuccess Likelihoods:{likelihood}\\nFailure Likelihood:{inverse_likelihood}\")\n",
    "    \n",
    "    sim_success_choices = np.random.choice(prior_choices, size=(N), p=prior)\n",
    "\n",
    "    runs = np.zeros(shape=(N, 2), dtype=object)\n",
    "    runs[:,0] = sim_success_choices\n",
    "\n",
    "    pos_sim = np.random.choice(env_choices, size=(N), p=likelihood)\n",
    "    neg_sim = np.random.choice(env_choices, size=(N), p=inverse_likelihood)\n",
    "    \n",
    "    runs[:,1] = np.where(runs[:,0] == \"Success\", pos_sim, neg_sim)\n",
    "    return runs\n",
    "    \n",
    "sims = simulate_investor(prior, prior_choices, normalized_likelihoods, inverse_normalized, env_choices, 10000)"
   ]
  },
  {
   "cell_type": "code",
   "execution_count": 125,
   "id": "9a837ef0-35e2-4390-b456-05a32e71db39",
   "metadata": {},
   "outputs": [],
   "source": [
    "def get_table(results, prior_choices, env_choices):\n",
    "    rv = np.zeros(shape=(2, 8))\n",
    "    for row, success_value in enumerate(prior_choices):\n",
    "        temp = results\n",
    "        for col, env in enumerate(env_choices):\n",
    "            suc = np.where(results[:,0] == success_value, 1, 0)\n",
    "            rv[row][col] = (np.where(results[:,1] == env, 1, 0) * suc).sum()\n",
    "    return rv/results.shape[0]    "
   ]
  },
  {
   "cell_type": "code",
   "execution_count": 130,
   "id": "5fc80e7c-23c9-4ca0-a1be-ecc95e1f5292",
   "metadata": {},
   "outputs": [
    {
     "name": "stdout",
     "output_type": "stream",
     "text": [
      "[[0.0296 0.0069 0.0301 0.026  0.0033 0.002  0.0018 0.    ]\n",
      " [0.0159 0.1439 0.0162 0.0382 0.1609 0.1717 0.1699 0.1836]]\n"
     ]
    }
   ],
   "source": [
    "simulated_table = get_table(sims, prior_choices, env_choices)\n",
    "print(simulated_table)"
   ]
  },
  {
   "cell_type": "markdown",
   "id": "19fd04bb-2dbe-4105-9446-c35e39a94af4",
   "metadata": {},
   "source": [
    "Analytical Probabilities"
   ]
  },
  {
   "cell_type": "code",
   "execution_count": 131,
   "id": "7e1c77fa-0f5f-41c1-989f-34a63f3b9dd6",
   "metadata": {},
   "outputs": [
    {
     "name": "stdout",
     "output_type": "stream",
     "text": [
      "[[2.999000e-02 6.664445e-03 2.999000e-02 2.665778e-02 3.332223e-03\n",
      "  1.666111e-03 1.666111e-03 3.332223e-05]\n",
      " [1.800360e-02 1.440288e-01 1.800360e-02 3.600720e-02 1.620324e-01\n",
      "  1.710342e-01 1.710342e-01 1.798560e-01]]\n"
     ]
    }
   ],
   "source": [
    "analytical = np.zeros(shape=(2, 8))\n",
    "analytical[0,:] = prior[0] * normalized_likelihoods\n",
    "analytical[1,:] = prior[1] * inverse_normalized\n",
    "\n",
    "print(analytical)"
   ]
  },
  {
   "cell_type": "code",
   "execution_count": 133,
   "id": "2048ebf2-cb8c-4f26-b091-806ab691b474",
   "metadata": {},
   "outputs": [
    {
     "data": {
      "text/plain": [
       "array([[3.900033e-04, 2.355548e-04, 1.099967e-04, 6.577807e-04,\n",
       "        3.222259e-05, 3.338887e-04, 1.338887e-04, 3.332223e-05],\n",
       "       [2.103601e-03, 1.288058e-04, 1.803601e-03, 2.192799e-03,\n",
       "        1.132406e-03, 6.657932e-04, 1.134207e-03, 3.744029e-03]])"
      ]
     },
     "execution_count": 133,
     "metadata": {},
     "output_type": "execute_result"
    }
   ],
   "source": [
    "np.abs(analytical - simulated_table)"
   ]
  },
  {
   "cell_type": "code",
   "execution_count": null,
   "id": "c8b1da9f-7a25-49de-9b36-da0c4a7d08f6",
   "metadata": {},
   "outputs": [],
   "source": []
  }
 ],
 "metadata": {
  "kernelspec": {
   "display_name": "cognitive",
   "language": "python",
   "name": "cognitive"
  },
  "language_info": {
   "codemirror_mode": {
    "name": "ipython",
    "version": 3
   },
   "file_extension": ".py",
   "mimetype": "text/x-python",
   "name": "python",
   "nbconvert_exporter": "python",
   "pygments_lexer": "ipython3",
   "version": "3.11.0"
  }
 },
 "nbformat": 4,
 "nbformat_minor": 5
}
